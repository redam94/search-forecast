{
 "cells": [
  {
   "cell_type": "markdown",
   "metadata": {},
   "source": [
    "# Data Generation\n",
    "\n",
    "> Used to simulate data for examples"
   ]
  },
  {
   "cell_type": "code",
   "execution_count": null,
   "metadata": {},
   "outputs": [],
   "source": [
    "#| default_exp utils/data_gen"
   ]
  },
  {
   "cell_type": "code",
   "execution_count": null,
   "metadata": {},
   "outputs": [],
   "source": [
    "#| hide\n",
    "from nbdev.showdoc import *"
   ]
  },
  {
   "cell_type": "code",
   "execution_count": null,
   "metadata": {},
   "outputs": [],
   "source": [
    "#| export\n",
    "import numpy as np\n",
    "import xarray as xr\n",
    "import pandas as pd\n",
    "from scipy.special import expit"
   ]
  },
  {
   "cell_type": "code",
   "execution_count": null,
   "metadata": {},
   "outputs": [],
   "source": [
    "#| export\n",
    "def hill(\n",
    "    x: np.ndarray,\n",
    "    half_sat: float,\n",
    "    slope: float\n",
    ") -> np.ndarray:\n",
    "    \"\"\"Hill function for dose-response curves.\"\"\"\n",
    "    return x**slope / (x**slope + half_sat**slope)\n"
   ]
  },
  {
   "cell_type": "code",
   "execution_count": null,
   "metadata": {},
   "outputs": [],
   "source": [
    "#| export\n",
    "def generate_data_search_data(\n",
    "    n_days: int = 400, \n",
    "    n_geos: int = 10, \n",
    "    seed: int = 42, \n",
    "    start_date: str = \"2020-01-01\",\n",
    "    budget=None,\n",
    ") -> xr.Dataset:\n",
    "    np.random.seed(seed)\n",
    "    date = pd.date_range(start_date, periods=n_days, freq=\"D\")\n",
    "    time = xr.DataArray(np.arange(n_days), coords={\"date\": date}, dims=[\"date\"])\n",
    "    geos = [\"geo_\" + str(i) for i in range(n_geos)]\n",
    "    lam_offset = xr.DataArray(\n",
    "        np.random.normal(size=n_geos) * 100, coords={\"geo\": geos}, dims=[\"geo\"]\n",
    "    )\n",
    "\n",
    "    weekly_seasonal_comp = 50 * np.sin(2 * np.pi * time / 7)\n",
    "    yearly_seasonal_comp = (\n",
    "        150 * np.sin(2 * np.pi * time / 365) - 50 * np.sin(4 * np.pi * time / 365)\n",
    "    ) * np.exp(lam_offset * 0.0001)\n",
    "    lam = (\n",
    "        300\n",
    "        + weekly_seasonal_comp\n",
    "        + yearly_seasonal_comp\n",
    "        + lam_offset\n",
    "        + 20 * np.random.random(size=(n_days, n_geos))\n",
    "    )  # Varies over time\n",
    "\n",
    "    search_volume = xr.DataArray(\n",
    "        np.random.poisson(lam=lam * 50),\n",
    "        coords={\"date\": date, \"geo\": geos},\n",
    "        dims=[\"date\", \"geo\"],\n",
    "    )  # Daily search volume\n",
    "    if budget is None:\n",
    "        budget = .1*np.clip(\n",
    "            (yearly_seasonal_comp + 300)\n",
    "            + 5 * np.random.normal(size=(n_days, n_geos)).cumsum(axis=0),\n",
    "            0,\n",
    "            None,\n",
    "        )  # Varies over time\n",
    "\n",
    "        \n",
    "\n",
    "        budget[60:67] = budget[60:67] * 1.2  # Double budget for a week\n",
    "        budget[300:307] = budget[300:307] * 1.2  # Double budget for a week\n",
    "        budget[30:37] = 0  # Turn off budget for a week\n",
    "        budget[200:207] = 0\n",
    "    half_sat = 30\n",
    "    slope = 1\n",
    "    impression_rate = hill(budget, half_sat, slope)*.25 + 0 * lam_offset  # Varies over time\n",
    "    impressions = xr.DataArray(\n",
    "        np.random.binomial(search_volume, impression_rate),\n",
    "        coords={\"date\": date, \"geo\": geos},\n",
    "        dims=[\"date\", \"geo\"],\n",
    "    )  # Impressions from search volume\n",
    "\n",
    "    yearly_seasonal_comp_ctr = (\n",
    "        0.02\n",
    "        * (yearly_seasonal_comp - yearly_seasonal_comp.min())\n",
    "        / (yearly_seasonal_comp.max() - yearly_seasonal_comp.min())\n",
    "    )\n",
    "\n",
    "    consumer_trends = 0.01 * np.cos(np.pi * 2 * time / 7) + 0.005 * np.random.normal(size=n_days)\n",
    "      # Varies over time\n",
    "\n",
    "    click_rate = expit(\n",
    "        -3 + 50*yearly_seasonal_comp_ctr + 30*consumer_trends + 0 * lam_offset\n",
    "    )  # Varies over time\n",
    "\n",
    "    observed_clicks = xr.DataArray(\n",
    "        np.random.binomial(impressions, click_rate),\n",
    "        coords={\"date\": date, \"geo\": geos},\n",
    "        dims=[\"date\", \"geo\"],\n",
    "    )  # Clicks can only come from impressions\n",
    "\n",
    "    dayofyear = xr.DataArray(\n",
    "        date.dayofyear.to_numpy(), coords={\"date\": date}, dims=[\"date\"]\n",
    "    )\n",
    "\n",
    "    data = xr.Dataset(\n",
    "        {\n",
    "            \"search_volume\": search_volume,\n",
    "            \"impressions\": impressions,\n",
    "            \"observed_clicks\": observed_clicks,\n",
    "            \"dayofyear\": dayofyear,\n",
    "            \"time\": time,\n",
    "            \"budget\": budget,\n",
    "        }\n",
    "    )\n",
    "    return data\n"
   ]
  },
  {
   "cell_type": "code",
   "execution_count": null,
   "metadata": {},
   "outputs": [],
   "source": [
    "#| hide\n",
    "import nbdev; nbdev.nbdev_export()"
   ]
  },
  {
   "cell_type": "code",
   "execution_count": null,
   "metadata": {},
   "outputs": [],
   "source": []
  }
 ],
 "metadata": {
  "kernelspec": {
   "display_name": "python3",
   "language": "python",
   "name": "python3"
  }
 },
 "nbformat": 4,
 "nbformat_minor": 4
}
