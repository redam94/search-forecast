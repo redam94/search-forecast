{
 "cells": [
  {
   "cell_type": "markdown",
   "metadata": {},
   "source": [
    "# search-forecast\n",
    "\n",
    "> Search forecasting tool"
   ]
  },
  {
   "cell_type": "markdown",
   "metadata": {},
   "source": [
    "[![CI](https://github.com/redam94/search-forecast/actions/workflows/test.yaml/badge.svg)](https://github.com/redam94/search-forecast/actions/workflows/test.yaml) [![Deploy to GitHub Pages](https://github.com/redam94/search-forecast/actions/workflows/deploy.yaml/badge.svg)](https://github.com/redam94/search-forecast/actions/workflows/deploy.yaml)"
   ]
  },
  {
   "cell_type": "markdown",
   "metadata": {},
   "source": [
    "This file will become your README and also the index of your documentation."
   ]
  },
  {
   "cell_type": "markdown",
   "metadata": {},
   "source": [
    "## Developer Guide"
   ]
  },
  {
   "cell_type": "markdown",
   "metadata": {},
   "source": [
    "If you are new to using `nbdev` here are some useful pointers to get you started."
   ]
  },
  {
   "cell_type": "markdown",
   "metadata": {},
   "source": [
    "### Install search_forecast in Development mode"
   ]
  },
  {
   "cell_type": "markdown",
   "metadata": {},
   "source": [
    "```sh\n",
    "# make sure search_forecast package is installed in development mode\n",
    "$ pip install -e .\n",
    "\n",
    "# make changes under nbs/ directory\n",
    "# ...\n",
    "\n",
    "# compile to have changes apply to search_forecast\n",
    "$ nbdev_prepare\n",
    "```"
   ]
  },
  {
   "cell_type": "markdown",
   "metadata": {},
   "source": [
    "## Usage"
   ]
  },
  {
   "cell_type": "markdown",
   "metadata": {},
   "source": [
    "### Installation"
   ]
  },
  {
   "cell_type": "markdown",
   "metadata": {},
   "source": [
    "Install latest from the GitHub [repository][repo]:\n",
    "\n",
    "```sh\n",
    "$ pip install git+https://github.com/redam94/search-forecast.git\n",
    "```\n",
    "\n",
    "[repo]: https://github.com/redam94/search-forecast\n",
    "[docs]: https://redam94.github.io/search-forecast/\n",
    "[pypi]: https://pypi.org/project/search-forecast/\n",
    "[conda]: https://anaconda.org/redam94/search-forecast"
   ]
  },
  {
   "cell_type": "markdown",
   "metadata": {},
   "source": [
    "### Documentation"
   ]
  },
  {
   "cell_type": "markdown",
   "metadata": {},
   "source": [
    "Documentation can be found hosted on this GitHub [repository][repo]'s [pages][docs]. \n",
    "\n",
    "[repo]: https://github.com/redam94/search-forecast\n",
    "[docs]: https://redam94.github.io/search-forecast/\n",
    "[pypi]: https://pypi.org/project/search-forecast/\n",
    "[conda]: https://anaconda.org/redam94/search-forecast"
   ]
  }
 ],
 "metadata": {
  "kernelspec": {
   "display_name": "python3",
   "language": "python",
   "name": "python3"
  }
 },
 "nbformat": 4,
 "nbformat_minor": 4
}
