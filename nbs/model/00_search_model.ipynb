{
 "cells": [
  {
   "cell_type": "markdown",
   "metadata": {},
   "source": [
    "# Search Model\n",
    "\n",
    "> A highly flexible model for forecasting search clicks for a given budget"
   ]
  },
  {
   "cell_type": "code",
   "execution_count": null,
   "metadata": {},
   "outputs": [],
   "source": [
    "#| default_exp model/search_volume"
   ]
  },
  {
   "cell_type": "code",
   "execution_count": null,
   "metadata": {},
   "outputs": [],
   "source": [
    "#| hide\n",
    "from nbdev.showdoc import *"
   ]
  },
  {
   "cell_type": "code",
   "execution_count": null,
   "metadata": {},
   "outputs": [],
   "source": [
    "#| export\n",
    "from enum import StrEnum\n",
    "\n",
    "import pymc as pm\n",
    "import numpy as np\n",
    "import pandas as pd\n",
    "import pytensor.tensor as pt\n",
    "import xarray as xr\n",
    "\n",
    "from search_forecast.wrapper.pymc_wrapper import (\n",
    "    Prior, HSGP, HSGPPeriodic, YearlyFourier, WeeklyFourier,\n",
    "    Data)\n",
    "from search_forecast.utils.data_gen import hill"
   ]
  },
  {
   "cell_type": "code",
   "execution_count": null,
   "metadata": {},
   "outputs": [],
   "source": [
    "#| export\n",
    "class ImpressionPrior(StrEnum):\n",
    "    \"\"\"\n",
    "    Enum for prior distributions of impressions.\n",
    "    \"\"\"\n",
    "    fraction_search_volume_available = \"fraction_search_volume_available\"\n",
    "    competitor_pressure = \"competitor_pressure\""
   ]
  },
  {
   "cell_type": "code",
   "execution_count": null,
   "metadata": {},
   "outputs": [],
   "source": [
    "#| export\n",
    "class ImpressionModel:\n",
    "    \"\"\"A class to represent the impression model.\"\"\"\n",
    "    def __init__(self, \n",
    "        dims: tuple[str],\n",
    "        priors: dict[ImpressionPrior, dict[str, str|float]] | None = None,\n",
    "        ):\n",
    "        self.dims = dims\n",
    "        if priors is None:\n",
    "            priors = self._default_priors()\n",
    "        \n",
    "        self.priors = self._default_priors() | priors\n",
    "        \n",
    "        self.model = None\n",
    "    \n",
    "    def _process_priors(self):\n",
    "        \"\"\"Process the priors for the model.\"\"\"\n",
    "        processed_priors = {}\n",
    "        for prior, params in self.priors.items():\n",
    "            processed_priors[prior] = Prior(str(prior), **params)\n",
    "        return processed_priors\n",
    "        \n",
    "    def _default_priors(self):\n",
    "        \"\"\"Default priors for the model.\"\"\"\n",
    "        return {\n",
    "            ImpressionPrior.fraction_search_volume_available:  dict(prior_name=\"Beta\", alpha=0.5, beta=0.5),\n",
    "            ImpressionPrior.competitor_pressure: dict(prior_name=\"HalfCauchy\", beta=1)\n",
    "        }\n",
    "\n",
    "    def create_model(\n",
    "        self,\n",
    "        search_volume: pt.TensorVariable, # Search Volume\n",
    "        budget: pt.TensorVariable, # Budget\n",
    "        model: pm.Model | None = None # Model Context,\n",
    "        ) -> pt.TensorVariable:\n",
    "        \"\"\"A model to convert search volume and budget into impressions.\"\"\"\n",
    "        model = pm.modelcontext(model)\n",
    "        self.model = model\n",
    "        priors = self._process_priors()\n",
    "        with model:\n",
    "            multiplier = priors[ImpressionPrior.fraction_search_volume_available].apply()\n",
    "            competitor_pressure= priors[ImpressionPrior.competitor_pressure].apply()\n",
    "\n",
    "            impression_rate = pm.Deterministic(\"impression_rate\", multiplier * hill(budget, competitor_pressure, 1.0), dims=self.dims)\n",
    "            \n",
    "            impressions = pm.Binomial(\"impressions\", n=search_volume, p=impression_rate, dims=self.dims)\n",
    "            return impressions\n",
    "\n",
    "       \n",
    "    def observe_impressions(\n",
    "        self,\n",
    "        impressions: np.ndarray, # Impressions\n",
    "        coords: dict[str, np.ndarray] | None = None, # Coordinates\n",
    "\n",
    "    ):\n",
    "        \"\"\"Observe the impressions in the model.\"\"\"\n",
    "        if self.model is None:\n",
    "            raise ValueError(\"Model is not created yet.\")\n",
    "        \n",
    "        self.model = pm.observe(self.model, {\"impressions\": impressions})\n",
    "        if not coords is None:\n",
    "            with self.model:\n",
    "                pm.set_data({'impressions': impressions}, coords=coords)\n",
    "        return self.model\n",
    "    "
   ]
  },
  {
   "cell_type": "code",
   "execution_count": null,
   "metadata": {},
   "outputs": [],
   "source": []
  }
 ],
 "metadata": {
  "kernelspec": {
   "display_name": "python3",
   "language": "python",
   "name": "python3"
  }
 },
 "nbformat": 4,
 "nbformat_minor": 2
}
